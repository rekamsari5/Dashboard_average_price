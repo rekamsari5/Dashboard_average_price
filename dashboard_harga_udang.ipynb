{
 "cells": [
  {
   "cell_type": "markdown",
   "metadata": {},
   "source": [
    "# Import Library"
   ]
  },
  {
   "cell_type": "code",
   "execution_count": 1,
   "metadata": {},
   "outputs": [],
   "source": [
    "import numpy as np\n",
    "import pandas as pd\n",
    "\n",
    "import matplotlib\n",
    "import matplotlib.pyplot as plt\n",
    "from matplotlib.dates import DateFormatter\n",
    "import seaborn as sns\n",
    "\n",
    "from datetime import datetime as dt\n",
    "import math\n"
   ]
  },
  {
   "cell_type": "code",
   "execution_count": null,
   "metadata": {},
   "outputs": [],
   "source": []
  },
  {
   "cell_type": "markdown",
   "metadata": {},
   "source": [
    "# Load Data"
   ]
  },
  {
   "cell_type": "code",
   "execution_count": 2,
   "metadata": {},
   "outputs": [
    {
     "data": {
      "text/html": [
       "<div>\n",
       "<style scoped>\n",
       "    .dataframe tbody tr th:only-of-type {\n",
       "        vertical-align: middle;\n",
       "    }\n",
       "\n",
       "    .dataframe tbody tr th {\n",
       "        vertical-align: top;\n",
       "    }\n",
       "\n",
       "    .dataframe thead th {\n",
       "        text-align: right;\n",
       "    }\n",
       "</style>\n",
       "<table border=\"1\" class=\"dataframe\">\n",
       "  <thead>\n",
       "    <tr style=\"text-align: right;\">\n",
       "      <th></th>\n",
       "      <th>Periode</th>\n",
       "      <th>Harga</th>\n",
       "    </tr>\n",
       "  </thead>\n",
       "  <tbody>\n",
       "    <tr>\n",
       "      <th>445</th>\n",
       "      <td>2017-02-01</td>\n",
       "      <td>12.12541</td>\n",
       "    </tr>\n",
       "    <tr>\n",
       "      <th>446</th>\n",
       "      <td>2017-03-01</td>\n",
       "      <td>12.12541</td>\n",
       "    </tr>\n",
       "    <tr>\n",
       "      <th>447</th>\n",
       "      <td>2017-04-01</td>\n",
       "      <td>12.12541</td>\n",
       "    </tr>\n",
       "    <tr>\n",
       "      <th>448</th>\n",
       "      <td>2017-05-01</td>\n",
       "      <td>12.12541</td>\n",
       "    </tr>\n",
       "    <tr>\n",
       "      <th>449</th>\n",
       "      <td>2017-06-01</td>\n",
       "      <td>12.12541</td>\n",
       "    </tr>\n",
       "  </tbody>\n",
       "</table>\n",
       "</div>"
      ],
      "text/plain": [
       "       Periode     Harga\n",
       "445 2017-02-01  12.12541\n",
       "446 2017-03-01  12.12541\n",
       "447 2017-04-01  12.12541\n",
       "448 2017-05-01  12.12541\n",
       "449 2017-06-01  12.12541"
      ]
     },
     "execution_count": 2,
     "metadata": {},
     "output_type": "execute_result"
    }
   ],
   "source": [
    "data = pd.read_csv('PSHRIUSDM.csv')\n",
    "data['DATE'] = pd.to_datetime(data['DATE'])\n",
    "\n",
    "data.rename(columns={'DATE': 'Periode', 'PSHRIUSDM': 'Harga'}, inplace=True)\n",
    "\n",
    "data.tail()"
   ]
  },
  {
   "cell_type": "code",
   "execution_count": 3,
   "metadata": {
    "scrolled": false
   },
   "outputs": [
    {
     "name": "stdout",
     "output_type": "stream",
     "text": [
      "<class 'pandas.core.frame.DataFrame'>\n",
      "RangeIndex: 450 entries, 0 to 449\n",
      "Data columns (total 2 columns):\n",
      " #   Column   Non-Null Count  Dtype         \n",
      "---  ------   --------------  -----         \n",
      " 0   Periode  450 non-null    datetime64[ns]\n",
      " 1   Harga    450 non-null    float64       \n",
      "dtypes: datetime64[ns](1), float64(1)\n",
      "memory usage: 7.2 KB\n"
     ]
    }
   ],
   "source": [
    "data.info()"
   ]
  },
  {
   "cell_type": "code",
   "execution_count": null,
   "metadata": {},
   "outputs": [],
   "source": []
  },
  {
   "cell_type": "markdown",
   "metadata": {},
   "source": [
    "# Permasalahan yang Harus Diselesaikan"
   ]
  },
  {
   "cell_type": "markdown",
   "metadata": {},
   "source": [
    "Case 1: saya mau tahu berapa rata-rata harga udang selama tahun 2001 <br>\n",
    "Case 2: saya mau tahu berapa harga udang tertinggi dan terendah pada semester awal 2010 <br>\n",
    "Case 3: saya mau tahu trend harga udang dunia dari awal sampai akhir per bulannya <br>\n",
    "Case 4: saya mau tahu tahun berapa terjadinya kenaikan dan penurunan harga paling drastis berdasarkan data rata-rata setiap tahun nya"
   ]
  },
  {
   "cell_type": "code",
   "execution_count": null,
   "metadata": {},
   "outputs": [],
   "source": []
  },
  {
   "cell_type": "markdown",
   "metadata": {},
   "source": [
    "# Input Form"
   ]
  },
  {
   "cell_type": "code",
   "execution_count": 4,
   "metadata": {},
   "outputs": [
    {
     "name": "stdout",
     "output_type": "stream",
     "text": [
      "Masukkan Batas Tanggal Awal (yyyy-mm-dd): 2001-01-01\n",
      "Masukkan Batas Tanggal Akhir (yyyy-mm-dd): 2010-12-31\n",
      "Masukkan Satuan Periode (bulan/tahun): bulan\n"
     ]
    }
   ],
   "source": [
    "# tanggal_awal = '2001-01-01'\n",
    "# tanggal_akhir = '2010-12-31'\n",
    "# satuan = 'bulan'\n",
    "\n",
    "tanggal_awal = input('Masukkan Batas Tanggal Awal (yyyy-mm-dd): ')\n",
    "tanggal_akhir = input('Masukkan Batas Tanggal Akhir (yyyy-mm-dd): ')\n",
    "satuan = input('Masukkan Satuan Periode (bulan/tahun): ')"
   ]
  },
  {
   "cell_type": "code",
   "execution_count": 5,
   "metadata": {
    "scrolled": true
   },
   "outputs": [],
   "source": [
    "satuan = satuan.lower()\n",
    "\n",
    "if satuan == 'bulan':\n",
    "    form = 'M'\n",
    "elif satuan == 'tahun':\n",
    "    form = 'Y'"
   ]
  },
  {
   "cell_type": "markdown",
   "metadata": {},
   "source": [
    "# Olah Data"
   ]
  },
  {
   "cell_type": "code",
   "execution_count": 6,
   "metadata": {},
   "outputs": [],
   "source": [
    "ext_data = data[(data['Periode'] >= tanggal_awal) & (data['Periode'] <= tanggal_akhir)]\n",
    "tertinggi = ext_data['Harga'].max()\n",
    "terendah = ext_data['Harga'].min()\n",
    "rata_rata = ext_data['Harga'].mean()\n",
    "data['year'] = pd.DatetimeIndex(data['Periode']).year.astype(str)"
   ]
  },
  {
   "cell_type": "code",
   "execution_count": 7,
   "metadata": {},
   "outputs": [
    {
     "data": {
      "text/html": [
       "<div>\n",
       "<style scoped>\n",
       "    .dataframe tbody tr th:only-of-type {\n",
       "        vertical-align: middle;\n",
       "    }\n",
       "\n",
       "    .dataframe tbody tr th {\n",
       "        vertical-align: top;\n",
       "    }\n",
       "\n",
       "    .dataframe thead th {\n",
       "        text-align: right;\n",
       "    }\n",
       "</style>\n",
       "<table border=\"1\" class=\"dataframe\">\n",
       "  <thead>\n",
       "    <tr style=\"text-align: right;\">\n",
       "      <th></th>\n",
       "      <th>Harga</th>\n",
       "    </tr>\n",
       "    <tr>\n",
       "      <th>Periode</th>\n",
       "      <th></th>\n",
       "    </tr>\n",
       "  </thead>\n",
       "  <tbody>\n",
       "    <tr>\n",
       "      <th>2001-01</th>\n",
       "      <td>15.9468</td>\n",
       "    </tr>\n",
       "    <tr>\n",
       "      <th>2001-02</th>\n",
       "      <td>16.3142</td>\n",
       "    </tr>\n",
       "    <tr>\n",
       "      <th>2001-03</th>\n",
       "      <td>16.5347</td>\n",
       "    </tr>\n",
       "    <tr>\n",
       "      <th>2001-04</th>\n",
       "      <td>16.5347</td>\n",
       "    </tr>\n",
       "    <tr>\n",
       "      <th>2001-05</th>\n",
       "      <td>16.5347</td>\n",
       "    </tr>\n",
       "  </tbody>\n",
       "</table>\n",
       "</div>"
      ],
      "text/plain": [
       "           Harga\n",
       "Periode         \n",
       "2001-01  15.9468\n",
       "2001-02  16.3142\n",
       "2001-03  16.5347\n",
       "2001-04  16.5347\n",
       "2001-05  16.5347"
      ]
     },
     "execution_count": 7,
     "metadata": {},
     "output_type": "execute_result"
    }
   ],
   "source": [
    "group_data = ext_data.groupby(data['Periode'].dt.to_period(form)).agg({'Harga': 'mean'})\n",
    "group_data.head()"
   ]
  },
  {
   "cell_type": "code",
   "execution_count": null,
   "metadata": {},
   "outputs": [],
   "source": []
  },
  {
   "cell_type": "markdown",
   "metadata": {},
   "source": [
    "# Plot Grafik"
   ]
  },
  {
   "cell_type": "code",
   "execution_count": 8,
   "metadata": {
    "scrolled": true
   },
   "outputs": [
    {
     "data": {
      "image/png": "[encoded data removed]",
      "text/plain": [
       "<Figure size 936x504 with 1 Axes>"
      ]
     },
     "metadata": {
      "needs_background": "light"
     },
     "output_type": "display_data"
    }
   ],
   "source": [
    "group_data.plot(marker='o', figsize=(13,7))\n",
    "\n",
    "idx_min = group_data.index[0]\n",
    "idx_max = group_data.index[-1]\n",
    "\n",
    "idx_mid = group_data.index[len(group_data)//2 - 1]\n",
    "\n",
    "plt.grid(True)\n",
    "\n",
    "plt.hlines(tertinggi, idx_min, idx_max, colors='r', linestyle='--')\n",
    "plt.hlines(terendah, idx_min, idx_max, colors='r', linestyle='--')\n",
    "plt.hlines(rata_rata, idx_min, idx_max, colors='g', linestyle=':', label='Rata-rata')\n",
    "\n",
    "plt.annotate('Harga Tertinggi pada US${}'.format(round(tertinggi, 2)), (idx_mid, tertinggi))\n",
    "plt.annotate('Harga Terendah pada US${}'.format(round(terendah, 2)), (idx_mid, terendah))\n",
    "plt.annotate('US${}'.format(round(rata_rata, 2)), (idx_min, rata_rata*1.01))\n",
    "\n",
    "plt.title('Trend Harga Udang Dunia Tahun {} - {}'.format(tanggal_awal.split('-')[0], tanggal_akhir.split('-')[0]), fontsize=20)\n",
    "plt.ylabel('Harga Udang per Kg (US$)')\n",
    "\n",
    "plt.legend()\n",
    "plt.show()"
   ]
  },
  {
   "cell_type": "code",
   "execution_count": null,
   "metadata": {},
   "outputs": [],
   "source": []
  },
  {
   "cell_type": "markdown",
   "metadata": {},
   "source": [
    "# Case 4 "
   ]
  },
  {
   "cell_type": "code",
   "execution_count": 9,
   "metadata": {},
   "outputs": [
    {
     "data": {
      "text/html": [
       "<div>\n",
       "<style scoped>\n",
       "    .dataframe tbody tr th:only-of-type {\n",
       "        vertical-align: middle;\n",
       "    }\n",
       "\n",
       "    .dataframe tbody tr th {\n",
       "        vertical-align: top;\n",
       "    }\n",
       "\n",
       "    .dataframe thead th {\n",
       "        text-align: right;\n",
       "    }\n",
       "</style>\n",
       "<table border=\"1\" class=\"dataframe\">\n",
       "  <thead>\n",
       "    <tr style=\"text-align: right;\">\n",
       "      <th></th>\n",
       "      <th>Periode</th>\n",
       "      <th>Harga</th>\n",
       "      <th>th_2</th>\n",
       "      <th>Perubahan</th>\n",
       "    </tr>\n",
       "  </thead>\n",
       "  <tbody>\n",
       "    <tr>\n",
       "      <th>112</th>\n",
       "      <td>2010-05</td>\n",
       "      <td>10.251483</td>\n",
       "      <td>8.653134</td>\n",
       "      <td>1.598349</td>\n",
       "    </tr>\n",
       "    <tr>\n",
       "      <th>117</th>\n",
       "      <td>2010-10</td>\n",
       "      <td>11.794717</td>\n",
       "      <td>10.251483</td>\n",
       "      <td>1.543234</td>\n",
       "    </tr>\n",
       "    <tr>\n",
       "      <th>25</th>\n",
       "      <td>2003-02</td>\n",
       "      <td>12.125410</td>\n",
       "      <td>11.133330</td>\n",
       "      <td>0.992080</td>\n",
       "    </tr>\n",
       "    <tr>\n",
       "      <th>118</th>\n",
       "      <td>2010-11</td>\n",
       "      <td>12.400987</td>\n",
       "      <td>11.794717</td>\n",
       "      <td>0.606270</td>\n",
       "    </tr>\n",
       "    <tr>\n",
       "      <th>22</th>\n",
       "      <td>2002-11</td>\n",
       "      <td>10.802600</td>\n",
       "      <td>10.251500</td>\n",
       "      <td>0.551100</td>\n",
       "    </tr>\n",
       "    <tr>\n",
       "      <th>...</th>\n",
       "      <td>...</td>\n",
       "      <td>...</td>\n",
       "      <td>...</td>\n",
       "      <td>...</td>\n",
       "    </tr>\n",
       "    <tr>\n",
       "      <th>7</th>\n",
       "      <td>2001-08</td>\n",
       "      <td>15.432300</td>\n",
       "      <td>16.534700</td>\n",
       "      <td>-1.102400</td>\n",
       "    </tr>\n",
       "    <tr>\n",
       "      <th>41</th>\n",
       "      <td>2004-06</td>\n",
       "      <td>9.920790</td>\n",
       "      <td>11.243562</td>\n",
       "      <td>-1.322772</td>\n",
       "    </tr>\n",
       "    <tr>\n",
       "      <th>8</th>\n",
       "      <td>2001-09</td>\n",
       "      <td>13.742100</td>\n",
       "      <td>15.432300</td>\n",
       "      <td>-1.690200</td>\n",
       "    </tr>\n",
       "    <tr>\n",
       "      <th>15</th>\n",
       "      <td>2002-04</td>\n",
       "      <td>9.700300</td>\n",
       "      <td>11.464000</td>\n",
       "      <td>-1.763700</td>\n",
       "    </tr>\n",
       "    <tr>\n",
       "      <th>0</th>\n",
       "      <td>2001-01</td>\n",
       "      <td>15.946800</td>\n",
       "      <td>NaN</td>\n",
       "      <td>NaN</td>\n",
       "    </tr>\n",
       "  </tbody>\n",
       "</table>\n",
       "<p>120 rows × 4 columns</p>\n",
       "</div>"
      ],
      "text/plain": [
       "     Periode      Harga       th_2  Perubahan\n",
       "112  2010-05  10.251483   8.653134   1.598349\n",
       "117  2010-10  11.794717  10.251483   1.543234\n",
       "25   2003-02  12.125410  11.133330   0.992080\n",
       "118  2010-11  12.400987  11.794717   0.606270\n",
       "22   2002-11  10.802600  10.251500   0.551100\n",
       "..       ...        ...        ...        ...\n",
       "7    2001-08  15.432300  16.534700  -1.102400\n",
       "41   2004-06   9.920790  11.243562  -1.322772\n",
       "8    2001-09  13.742100  15.432300  -1.690200\n",
       "15   2002-04   9.700300  11.464000  -1.763700\n",
       "0    2001-01  15.946800        NaN        NaN\n",
       "\n",
       "[120 rows x 4 columns]"
      ]
     },
     "execution_count": 9,
     "metadata": {},
     "output_type": "execute_result"
    }
   ],
   "source": [
    "group_data['th_2'] = group_data['Harga'].shift(+1).fillna(method='ffill')\n",
    "group_data['Perubahan'] = group_data['Harga'] - group_data['th_2']\n",
    "dt = group_data.reset_index(drop = False).sort_values('Perubahan', ascending = False)\n",
    "dt"
   ]
  },
  {
   "cell_type": "code",
   "execution_count": 10,
   "metadata": {
    "scrolled": false
   },
   "outputs": [
    {
     "name": "stdout",
     "output_type": "stream",
     "text": [
      "Kenaikan tertinggi terjadi pada tahun 2010-05 yang mengalami kenaikan sebesar 1.5983494999999994 dari tahun sebelumnya. Penurunan tertinggi terjadi pada tahun 2002-04 yang mengalami penurunan sebesar 1.7637 dari tahun sebelumnya.\n"
     ]
    }
   ],
   "source": [
    "th_max = dt['Periode'].astype(str).values[0]\n",
    "harga_max = dt['Perubahan'].max()\n",
    "\n",
    "th_min = dt['Periode'].astype(str).values[-2]\n",
    "harga_min = dt['Perubahan'].min() * -1\n",
    "kenaikan = \"Kenaikan tertinggi terjadi pada tahun {} yang mengalami kenaikan sebesar {} dari tahun sebelumnya.\". format(th_max, harga_max)\n",
    "penurunan = \"Penurunan tertinggi terjadi pada tahun {} yang mengalami penurunan sebesar {} dari tahun sebelumnya.\". format(th_min, harga_min)\n",
    "print(kenaikan,penurunan)"
   ]
  },
  {
   "cell_type": "code",
   "execution_count": null,
   "metadata": {},
   "outputs": [],
   "source": []
  },
  {
   "cell_type": "code",
   "execution_count": null,
   "metadata": {},
   "outputs": [],
   "source": []
  },
  {
   "cell_type": "code",
   "execution_count": 11,
   "metadata": {},
   "outputs": [
    {
     "data": {
      "text/plain": [
       "[Text(0, 0.5, 'Harga Udang (US$)'),\n",
       " Text(0.5, 0, 'Periode'),\n",
       " Text(0.5, 1.0, 'Tred Harga Udang Dunia Tahun 1980 - 2017')]"
      ]
     },
     "execution_count": 11,
     "metadata": {},
     "output_type": "execute_result"
    },
    {
     "data": {
      "image/png": "[encoded data removed]",
      "text/plain": [
       "<Figure size 576x288 with 1 Axes>"
      ]
     },
     "metadata": {
      "needs_background": "light"
     },
     "output_type": "display_data"
    }
   ],
   "source": [
    "X = pd.to_datetime(data['Periode'])\n",
    "Y = data['Harga']\n",
    "\n",
    "df = pd.DataFrame({'date': X, 'Harga': Y})\n",
    "ax = df.plot.line(x='date', y='Harga', rot=0, style=['.-'], figsize=(8, 4), grid=True)\n",
    "\n",
    "ax.set(xlabel=\"Periode\",\n",
    "       ylabel=\"Harga Udang (US$)\",\n",
    "       title=\"Tred Harga Udang Dunia Tahun 1980 - 2017\")\n"
   ]
  },
  {
   "cell_type": "code",
   "execution_count": 12,
   "metadata": {},
   "outputs": [],
   "source": [
    "tahun = \"2010\""
   ]
  },
  {
   "cell_type": "code",
   "execution_count": 13,
   "metadata": {},
   "outputs": [
    {
     "data": {
      "text/plain": [
       "10.11369425"
      ]
     },
     "execution_count": 13,
     "metadata": {},
     "output_type": "execute_result"
    }
   ],
   "source": [
    "data['year']= pd.DatetimeIndex(data['Periode']).year.astype(str)\n",
    "data['month_year'] = pd.to_datetime(data['Periode']).dt.to_period('M')\n",
    "\n",
    "case1 = data[data['year'] == tahun]['Harga'].mean()\n",
    "case1"
   ]
  },
  {
   "cell_type": "code",
   "execution_count": 14,
   "metadata": {},
   "outputs": [
    {
     "data": {
      "text/plain": [
       "0      1980-01\n",
       "1      1980-02\n",
       "2      1980-03\n",
       "3      1980-04\n",
       "4      1980-05\n",
       "        ...   \n",
       "445    2017-02\n",
       "446    2017-03\n",
       "447    2017-04\n",
       "448    2017-05\n",
       "449    2017-06\n",
       "Name: month_year, Length: 450, dtype: period[M]"
      ]
     },
     "execution_count": 14,
     "metadata": {},
     "output_type": "execute_result"
    }
   ],
   "source": [
    "p = pd.date_range(tahun, freq='M', periods=6)\n",
    "d = p.to_period()\n",
    "data['month_year']\n",
    "# month = d.astype(str).tolist()\n",
    "# mask = (data['month_year'] >=month[1]) & (data['month_year'] <= month[5])\n",
    "# semester1 = data.loc[mask]\n",
    "# semester1"
   ]
  }
 ],
 "metadata": {
  "kernelspec": {
   "display_name": "Python 3",
   "language": "python",
   "name": "python3"
  },
  "language_info": {
   "codemirror_mode": {
    "name": "ipython",
    "version": 3
   },
   "file_extension": ".py",
   "mimetype": "text/x-python",
   "name": "python",
   "nbconvert_exporter": "python",
   "pygments_lexer": "ipython3",
   "version": "3.6.8"
  }
 },
 "nbformat": 4,
 "nbformat_minor": 4
}
